{
 "cells": [
  {
   "cell_type": "code",
   "execution_count": 6,
   "metadata": {},
   "outputs": [],
   "source": [
    "from abc import abstractmethod, ABCMeta\n",
    "\n",
    "class NNNode(metaclass=ABCMeta):\n",
    "    @abstractmethod\n",
    "    def forward(): pass\n",
    "    @abstractmethod\n",
    "    def backward(): pass\n",
    "\n",
    "class SigmoidNode(NNNode):\n",
    "    def forward():\n",
    "        pass\n",
    "    def backward():\n",
    "        pass\n",
    "\n",
    "class ReLUNode(NNNode):\n",
    "    def forward():\n",
    "        pass\n",
    "    def backward():\n",
    "        pass"
   ]
  },
  {
   "cell_type": "code",
   "execution_count": 7,
   "metadata": {},
   "outputs": [],
   "source": [
    "\n",
    "class NNLayer:\n",
    "    nodes = []\n",
    "    def __init__(self, nodeCnt: int, activationFunc: str) -> None:\n",
    "        assert(nodeCnt > 0)\n",
    "        match activationFunc:\n",
    "            case 'sigmoid':\n",
    "                nodes = [SigmoidNode() for _ in range(nodeCnt)]\n",
    "                print('init nnlayer with sigmoid nodes')\n",
    "            case 'reLU':\n",
    "                nodes = [ReLUNode() for _ in range(nodeCnt)]\n",
    "                print('init nnlayer with reLU nodes')\n"
   ]
  },
  {
   "cell_type": "code",
   "execution_count": 8,
   "metadata": {},
   "outputs": [
    {
     "name": "stdout",
     "output_type": "stream",
     "text": [
      "init nnlayer with sigmoid nodes\n",
      "<class '__main__.NNLayer'>\n",
      "<__main__.NNLayer object at 0x000001E9F4A7E410>\n"
     ]
    }
   ],
   "source": [
    "_ = NNLayer(nodeCnt=5, activationFunc='sigmoid')"
   ]
  },
  {
   "cell_type": "code",
   "execution_count": null,
   "metadata": {},
   "outputs": [],
   "source": [
    "class NN_Model:\n",
    "    pass"
   ]
  }
 ],
 "metadata": {
  "kernelspec": {
   "display_name": "Python 3.10.4 ('py310')",
   "language": "python",
   "name": "python3"
  },
  "language_info": {
   "codemirror_mode": {
    "name": "ipython",
    "version": 3
   },
   "file_extension": ".py",
   "mimetype": "text/x-python",
   "name": "python",
   "nbconvert_exporter": "python",
   "pygments_lexer": "ipython3",
   "version": "3.10.4"
  },
  "orig_nbformat": 4,
  "vscode": {
   "interpreter": {
    "hash": "db7c330ff7ba0cd9912e970b037dba21fb2aaf2b53c4f09b3e5a456bda34fb61"
   }
  }
 },
 "nbformat": 4,
 "nbformat_minor": 2
}

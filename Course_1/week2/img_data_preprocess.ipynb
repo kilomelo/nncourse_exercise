{
 "cells": [
  {
   "cell_type": "code",
   "execution_count": 6,
   "metadata": {},
   "outputs": [
    {
     "name": "stdout",
     "output_type": "stream",
     "text": [
      "total image count 6040\n"
     ]
    }
   ],
   "source": [
    "from utils import getAllImageInfo\n",
    "\n",
    "dir = './face'\n",
    "all = getAllImageInfo(dir)\n",
    "print('total image count', len(all[0]))"
   ]
  },
  {
   "cell_type": "code",
   "execution_count": 7,
   "metadata": {},
   "outputs": [
    {
     "name": "stdout",
     "output_type": "stream",
     "text": [
      "average acpect ratio is 0.5925324227373069\n"
     ]
    }
   ],
   "source": [
    "from PIL import Image\n",
    "\n",
    "aspectRatioTotal = 0\n",
    "\n",
    "for imgName, fullPath in zip(all[0], all[1]):\n",
    "    im = Image.open(fullPath)\n",
    "    aspectRatioTotal += im.size[0] / im.size[1]\n",
    "\n",
    "averageAspectRatio = aspectRatioTotal / len(all[0])\n",
    "print('average acpect ratio is', averageAspectRatio)"
   ]
  }
 ],
 "metadata": {
  "kernelspec": {
   "display_name": "Python 3.6.13 ('py36')",
   "language": "python",
   "name": "python3"
  },
  "language_info": {
   "codemirror_mode": {
    "name": "ipython",
    "version": 3
   },
   "file_extension": ".py",
   "mimetype": "text/x-python",
   "name": "python",
   "nbconvert_exporter": "python",
   "pygments_lexer": "ipython3",
   "version": "3.6.13"
  },
  "orig_nbformat": 4,
  "vscode": {
   "interpreter": {
    "hash": "40b751bbd668d3e980b4b8abf348dd91147112549a98ab2274de53ab90074bcb"
   }
  }
 },
 "nbformat": 4,
 "nbformat_minor": 2
}

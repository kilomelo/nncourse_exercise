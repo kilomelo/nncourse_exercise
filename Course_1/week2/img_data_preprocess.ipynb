{
 "cells": [
  {
   "cell_type": "code",
   "execution_count": 44,
   "metadata": {},
   "outputs": [
    {
     "name": "stdout",
     "output_type": "stream",
     "text": [
      "(6000, 2)\n"
     ]
    }
   ],
   "source": [
    "from utils import getAllImageInfo\n",
    "import pandas as pd\n",
    "\n",
    "labels_clean = pd.read_csv('labels_clean.csv')\n",
    "print(labels_clean.shape)"
   ]
  },
  {
   "cell_type": "code",
   "execution_count": 45,
   "metadata": {},
   "outputs": [
    {
     "name": "stdout",
     "output_type": "stream",
     "text": [
      "average acpect ratio is 0.588558912803532\n"
     ]
    }
   ],
   "source": [
    "from PIL import Image\n",
    "from os import path\n",
    "\n",
    "rawImgDir = './images/faces'\n",
    "rawImgExtention = '.png'\n",
    "aspectRatioTotal = 0\n",
    "rawImgFullPath = []\n",
    "\n",
    "for user_id in labels_clean['user_id']:\n",
    "    fullPath = path.join(rawImgDir, str(user_id) + rawImgExtention)\n",
    "    rawImgFullPath.append(fullPath)\n",
    "    im = Image.open(fullPath)\n",
    "    aspectRatioTotal += im.size[0] / im.size[1]\n",
    "\n",
    "averageAspectRatio = aspectRatioTotal / len(all[0])\n",
    "print('average acpect ratio is', averageAspectRatio)"
   ]
  },
  {
   "cell_type": "code",
   "execution_count": 46,
   "metadata": {},
   "outputs": [
    {
     "name": "stdout",
     "output_type": "stream",
     "text": [
      "minWidth: 283 minHeight: 480\n"
     ]
    }
   ],
   "source": [
    "import math\n",
    "\n",
    "resizedImgDir = './images/resized'\n",
    "resizedImgFileExtension = '.jpg'\n",
    "minWidth, minHeight = float('inf'), float('inf')\n",
    "cropedSizes = []\n",
    "\n",
    "for fullPath in rawImgFullPath:\n",
    "    im = Image.open(fullPath)\n",
    "    w, h = im.size[0], im.size[1]\n",
    "    \n",
    "    # print('file:', fileName, 'w:', w, 'h:', h)\n",
    "    # print('resizedImgFullPath:', resizedImgFullPath)\n",
    "    croppedSize = ()\n",
    "    croppedWidth = 0\n",
    "    croppedHeight = 0\n",
    "    \n",
    "    if w / h > averageAspectRatio:\n",
    "        cut = w - h * averageAspectRatio\n",
    "        cutL = math.floor(cut / 2)\n",
    "        cutR = math.floor(cut -cutL)\n",
    "        if cutL == 0 & cutR == 0: continue\n",
    "        croppedSize = (cutL, 0, w - cutR, h)\n",
    "        croppedWidth = w - cutL - cutR\n",
    "        croppedHeight = h\n",
    "    else:\n",
    "        cut = h - w / averageAspectRatio\n",
    "        cutT = math.floor(cut / 2)\n",
    "        cutB = math.floor(cut -cutT)\n",
    "        if cutT == 0 & cutB == 0: continue\n",
    "        croppedSize = (0, cutT, w, h - cutB)\n",
    "        croppedWidth = w\n",
    "        croppedHeight = h - cutT - cutB\n",
    "\n",
    "    # print('tagetSize:', tagetSize)\n",
    "    cropedSizes.append(croppedSize)\n",
    "    # croppedIm = im.crop(tagetSize)\n",
    "    # print(croppedIm.size)\n",
    "    minWidth = croppedWidth if minWidth > croppedWidth else minWidth\n",
    "    minHeight = croppedHeight if minHeight > croppedHeight else minHeight\n",
    "    # croppedIm.save(croppedImgFullPath)\n",
    "\n",
    "print('minWidth:', minWidth, 'minHeight:', minHeight)\n",
    "# print(cropedSizes)\n",
    "\n",
    "for fullPath, croppedSize, user_id in zip(rawImgFullPath, cropedSizes, labels_clean['user_id']):\n",
    "    im = Image.open(fullPath)\n",
    "    w, h = im.size[0], im.size[1]\n",
    "    resizedImgFullPath = path.join(resizedImgDir, str(user_id) + resizedImgFileExtension)\n",
    "\n",
    "    resizedIm = im.crop(croppedSize).resize((minWidth, minHeight), Image.BILINEAR)\n",
    "    resizedIm.save(resizedImgFullPath)\n",
    "    "
   ]
  }
 ],
 "metadata": {
  "kernelspec": {
   "display_name": "Python 3.6.13 ('py36')",
   "language": "python",
   "name": "python3"
  },
  "language_info": {
   "codemirror_mode": {
    "name": "ipython",
    "version": 3
   },
   "file_extension": ".py",
   "mimetype": "text/x-python",
   "name": "python",
   "nbconvert_exporter": "python",
   "pygments_lexer": "ipython3",
   "version": "3.6.13"
  },
  "orig_nbformat": 4,
  "vscode": {
   "interpreter": {
    "hash": "7bc89e645aea6ea53bd09760fa4f58a0d99e0f3d6083568cf6b639bfdb1292a1"
   }
  }
 },
 "nbformat": 4,
 "nbformat_minor": 2
}

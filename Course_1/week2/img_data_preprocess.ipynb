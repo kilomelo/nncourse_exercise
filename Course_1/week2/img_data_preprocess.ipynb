{
 "cells": [
  {
   "cell_type": "code",
   "execution_count": 25,
   "metadata": {},
   "outputs": [
    {
     "name": "stdout",
     "output_type": "stream",
     "text": [
      "(6000, 2)\n"
     ]
    }
   ],
   "source": [
    "from utils import getAllImageInfo\n",
    "import pandas as pd\n",
    "\n",
    "labels_clean = pd.read_csv('labels_clean.csv')\n",
    "print(labels_clean.shape)"
   ]
  },
  {
   "cell_type": "code",
   "execution_count": 26,
   "metadata": {},
   "outputs": [
    {
     "name": "stdout",
     "output_type": "stream",
     "text": [
      "bad image count: 4\n",
      "average acpect ratio is 0.5919884089392928\n",
      "(5996, 2)\n"
     ]
    }
   ],
   "source": [
    "from PIL import Image\n",
    "from os import path\n",
    "\n",
    "rawImgDir = './images/faces'\n",
    "rawImgExtention = '.png'\n",
    "aspectRatioTotal = 0\n",
    "rawImgFullPath = []\n",
    "# 宽高比不对的图片（横向拍照）\n",
    "badAspectRatioImgCnt = 0\n",
    "\n",
    "for index, row in labels_clean.iterrows():\n",
    "    user_id = row['user_id']\n",
    "    fullPath = path.join(rawImgDir, str(user_id) + rawImgExtention)\n",
    "    im = Image.open(fullPath)\n",
    "    aspectRatio = im.size[0] / im.size[1]\n",
    "    if aspectRatio >= 1:\n",
    "        badAspectRatioImgCnt += 1\n",
    "        labels_clean.at[index, 'user_id'] = -1\n",
    "    else:\n",
    "        aspectRatioTotal += aspectRatio\n",
    "        rawImgFullPath.append(fullPath)\n",
    "\n",
    "averageAspectRatio = aspectRatioTotal / (len(labels_clean['user_id']) - badAspectRatioImgCnt)\n",
    "labels_clean.drop(labels_clean[labels_clean['user_id'] <= 0].index, inplace=True)\n",
    "labels_clean.to_csv('labels_final.csv', index=False)\n",
    "\n",
    "print('bad image count:', badAspectRatioImgCnt)\n",
    "print('average acpect ratio is', averageAspectRatio)\n",
    "print(labels_clean.shape)"
   ]
  },
  {
   "cell_type": "code",
   "execution_count": 24,
   "metadata": {},
   "outputs": [
    {
     "name": "stdout",
     "output_type": "stream",
     "text": [
      "minWidth: 379 minHeight: 640\n"
     ]
    }
   ],
   "source": [
    "import math\n",
    "\n",
    "resizedImgDir = './images/resized'\n",
    "resizedImgFileExtension = '.jpg'\n",
    "minWidth, minHeight = float('inf'), float('inf')\n",
    "cropedSizes = []\n",
    "\n",
    "for fullPath in rawImgFullPath:\n",
    "    im = Image.open(fullPath)\n",
    "    w, h = im.size[0], im.size[1]\n",
    "    \n",
    "    croppedSize = ()\n",
    "    croppedWidth = 0\n",
    "    croppedHeight = 0\n",
    "    \n",
    "    if w / h > averageAspectRatio:\n",
    "        cut = w - h * averageAspectRatio\n",
    "        cutL = math.floor(cut / 2)\n",
    "        cutR = math.floor(cut -cutL)\n",
    "        if cutL == 0 & cutR == 0: continue\n",
    "        croppedSize = (cutL, 0, w - cutR, h)\n",
    "        croppedWidth = w - cutL - cutR\n",
    "        croppedHeight = h\n",
    "    else:\n",
    "        cut = h - w / averageAspectRatio\n",
    "        cutT = math.floor(cut / 2)\n",
    "        cutB = math.floor(cut -cutT)\n",
    "        if cutT == 0 & cutB == 0: continue\n",
    "        croppedSize = (0, cutT, w, h - cutB)\n",
    "        croppedWidth = w\n",
    "        croppedHeight = h - cutT - cutB\n",
    "\n",
    "    cropedSizes.append(croppedSize)\n",
    "    minWidth = croppedWidth if minWidth > croppedWidth else minWidth\n",
    "    minHeight = croppedHeight if minHeight > croppedHeight else minHeight\n",
    "\n",
    "print('minWidth:', minWidth, 'minHeight:', minHeight)\n",
    "\n",
    "for fullPath, croppedSize, user_id in zip(rawImgFullPath, cropedSizes, labels_clean['user_id']):\n",
    "    im = Image.open(fullPath)\n",
    "    w, h = im.size[0], im.size[1]\n",
    "    resizedImgFullPath = path.join(resizedImgDir, str(user_id) + resizedImgFileExtension)\n",
    "\n",
    "    resizedIm = im.crop(croppedSize).resize((minWidth, minHeight), Image.BILINEAR)\n",
    "    resizedIm.save(resizedImgFullPath)\n",
    "    "
   ]
  }
 ],
 "metadata": {
  "kernelspec": {
   "display_name": "Python 3.6.13 ('py36')",
   "language": "python",
   "name": "python3"
  },
  "language_info": {
   "codemirror_mode": {
    "name": "ipython",
    "version": 3
   },
   "file_extension": ".py",
   "mimetype": "text/x-python",
   "name": "python",
   "nbconvert_exporter": "python",
   "pygments_lexer": "ipython3",
   "version": "3.6.13"
  },
  "orig_nbformat": 4,
  "vscode": {
   "interpreter": {
    "hash": "40b751bbd668d3e980b4b8abf348dd91147112549a98ab2274de53ab90074bcb"
   }
  }
 },
 "nbformat": 4,
 "nbformat_minor": 2
}

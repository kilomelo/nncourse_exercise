{
 "cells": [
  {
   "cell_type": "code",
   "execution_count": 1,
   "metadata": {},
   "outputs": [],
   "source": [
    "# 设置参数\n",
    "trainSetPercent = 0.5\n",
    "num_iterations = 100\n",
    "learning_rate = 0.001\n",
    "loadLastTrainData = True\n",
    "sliceRandomSeed = 0"
   ]
  },
  {
   "cell_type": "code",
   "execution_count": 2,
   "metadata": {},
   "outputs": [
    {
     "name": "stdout",
     "output_type": "stream",
     "text": [
      "data set count: 5996\n",
      "train set count: 2998\n",
      "test set count: 2998\n",
      "image size: 331776\n"
     ]
    }
   ],
   "source": [
    "# 准备数据\n",
    "import pandas as pd\n",
    "import numpy as np\n",
    "import math\n",
    "import matplotlib.pyplot as plt\n",
    "\n",
    "labels= pd.read_csv('labels_final.csv')\n",
    "print('data set count:', labels.shape[0])\n",
    "\n",
    "\n",
    "trainSetCount = math.floor(labels.shape[0] * trainSetPercent)\n",
    "if trainSetCount < 1: trainSetCount = 1\n",
    "testSetCount = labels.shape[0] - trainSetCount\n",
    "\n",
    "print('train set count:', trainSetCount)\n",
    "print('test set count:', testSetCount)\n",
    "\n",
    "imgDir = './images/resized/'\n",
    "imgSize = 0\n",
    "\n",
    "np.random.seed = sliceRandomSeed\n",
    "shuffledDataSet = np.array(labels)\n",
    "# np.random.shuffle(shuffledDataSet)\n",
    "trainSetRange = shuffledDataSet[:trainSetCount, :]\n",
    "testSetRange = shuffledDataSet[trainSetCount:trainSetCount + testSetCount, :]\n",
    "\n",
    "trainSetX = []\n",
    "\n",
    "for row in trainSetRange:\n",
    "    img = plt.imread(imgDir + str(row[0]) + '.jpg')\n",
    "    if imgSize == 0: imgSize = img.size\n",
    "    elif imgSize != img.size:\n",
    "        raise ValueError(\"图片尺寸不一致\")\n",
    "    imgArray = np.array(img)\n",
    "    imgTrans = imgArray.reshape((1, img.size)).T\n",
    "    trainSetX.append(imgTrans)\n",
    "\n",
    "print('image size:', imgSize)"
   ]
  },
  {
   "cell_type": "code",
   "execution_count": 3,
   "metadata": {},
   "outputs": [],
   "source": [
    "# 构造训练集\n",
    "trainSetX = np.array(trainSetX)\n",
    "trainSetX = trainSetX.squeeze().T / 2550\n",
    "trainSetY = trainSetRange[:,1:].T"
   ]
  },
  {
   "cell_type": "code",
   "execution_count": 4,
   "metadata": {},
   "outputs": [],
   "source": [
    "# 构造测试集\n",
    "testSetX = []\n",
    "\n",
    "for row in testSetRange:\n",
    "    img = plt.imread(imgDir + str(row[0]) + '.jpg')\n",
    "    if imgSize != img.size:\n",
    "        raise ValueError(\"图片尺寸不一致\")\n",
    "    imgArray = np.array(img)\n",
    "    imgTrans = imgArray.reshape((1, img.size)).T\n",
    "    testSetX.append(imgTrans)\n",
    "\n",
    "testSetX = np.array(testSetX).squeeze().T / 2550\n",
    "testSetY = testSetRange[:,1:].T"
   ]
  },
  {
   "cell_type": "code",
   "execution_count": 5,
   "metadata": {},
   "outputs": [
    {
     "name": "stdout",
     "output_type": "stream",
     "text": [
      "last train accuracy: 84.39 %\n",
      "last test accuracy: 85.06 %\n",
      "trainSetX value type: float64\n",
      "trainSetY value type: int64\n",
      "testSetX value type: float64\n",
      "testSetY value type: int64\n",
      "w value type: float64\n",
      "b value type: float64\n"
     ]
    }
   ],
   "source": [
    "# 训练\n",
    "import logicRegression\n",
    "import utils\n",
    "\n",
    "savedDataDir = './SavedTraining'\n",
    "saveDataFilePath = 'savedTrainingData.bin'\n",
    "\n",
    "if loadLastTrainData: loadedData = utils.loadFromeFile(saveDataFilePath)\n",
    "else: loadedData = None\n",
    "if loadedData is None:\n",
    "    loadedData = {\n",
    "        'w': np.zeros((trainSetX.shape[0],1)),\n",
    "        'b': 0,\n",
    "        'testAccuracy': 0.\n",
    "    }\n",
    "else:\n",
    "    print('last train accuracy: %.2f %%' % loadedData['trainAccuracy'])\n",
    "    print('last test accuracy: %.2f %%' % loadedData['testAccuracy'])\n",
    "\n",
    "w = loadedData['w']\n",
    "b = loadedData['b']\n",
    "print('trainSetX value type:', trainSetX.dtype)\n",
    "print('trainSetY value type:', trainSetY.dtype)\n",
    "print('testSetX value type:', testSetX.dtype)\n",
    "print('testSetY value type:', testSetY.dtype)\n",
    "print('w value type:', w.dtype)\n",
    "print('b value type:', b.dtype)\n",
    "\n",
    "cost_record_cnt = 100\n",
    "print_cost = True\n"
   ]
  },
  {
   "cell_type": "code",
   "execution_count": 6,
   "metadata": {},
   "outputs": [
    {
     "name": "stdout",
     "output_type": "stream",
     "text": [
      "Progress: [....................] cost: 0.3582\n",
      "Progress: [....................] cost: 0.3582\n",
      "Progress: [....................] cost: 0.3582\n",
      "Progress: [....................] cost: 0.3582\n",
      "Progress: [....................] cost: 0.3582\n",
      "Progress: [#...................] cost: 0.3582\n",
      "Progress: [#...................] cost: 0.3582\n",
      "Progress: [#...................] cost: 0.3582\n",
      "Progress: [#...................] cost: 0.3582\n",
      "Progress: [#...................] cost: 0.3582\n",
      "Progress: [##..................] cost: 0.3582\n",
      "Progress: [##..................] cost: 0.3582\n",
      "Progress: [##..................] cost: 0.3582\n",
      "Progress: [##..................] cost: 0.3582\n",
      "Progress: [##..................] cost: 0.3582\n",
      "Progress: [###.................] cost: 0.3582\n",
      "Progress: [###.................] cost: 0.3582\n",
      "Progress: [###.................] cost: 0.3582\n",
      "Progress: [###.................] cost: 0.3582\n",
      "Progress: [###.................] cost: 0.3582\n",
      "Progress: [####................] cost: 0.3582\n",
      "Progress: [####................] cost: 0.3582\n",
      "Progress: [####................] cost: 0.3582\n",
      "Progress: [####................] cost: 0.3582\n",
      "Progress: [####................] cost: 0.3582\n",
      "Progress: [#####...............] cost: 0.3582\n",
      "Progress: [#####...............] cost: 0.3582\n",
      "Progress: [#####...............] cost: 0.3582\n",
      "Progress: [#####...............] cost: 0.3581\n",
      "Progress: [#####...............] cost: 0.3581\n",
      "Progress: [######..............] cost: 0.3581\n",
      "Progress: [######..............] cost: 0.3581\n",
      "Progress: [######..............] cost: 0.3581\n",
      "Progress: [######..............] cost: 0.3581\n",
      "Progress: [######..............] cost: 0.3581\n",
      "Progress: [#######.............] cost: 0.3581\n",
      "Progress: [#######.............] cost: 0.3581\n",
      "Progress: [#######.............] cost: 0.3581\n",
      "Progress: [#######.............] cost: 0.3581\n",
      "Progress: [#######.............] cost: 0.3581\n",
      "Progress: [########............] cost: 0.3581\n",
      "Progress: [########............] cost: 0.3581\n",
      "Progress: [########............] cost: 0.3581\n",
      "Progress: [########............] cost: 0.3581\n",
      "Progress: [########............] cost: 0.3581\n",
      "Progress: [#########...........] cost: 0.3581\n",
      "Progress: [#########...........] cost: 0.3581\n",
      "Progress: [#########...........] cost: 0.3581\n",
      "Progress: [#########...........] cost: 0.3581\n",
      "Progress: [#########...........] cost: 0.3581\n",
      "Progress: [##########..........] cost: 0.3581\n",
      "Progress: [##########..........] cost: 0.3581\n",
      "Progress: [##########..........] cost: 0.3581\n",
      "Progress: [##########..........] cost: 0.3581\n",
      "Progress: [##########..........] cost: 0.3581\n",
      "Progress: [###########.........] cost: 0.3581\n",
      "Progress: [###########.........] cost: 0.3581\n",
      "Progress: [###########.........] cost: 0.3581\n",
      "Progress: [###########.........] cost: 0.3581\n",
      "Progress: [###########.........] cost: 0.3581\n",
      "Progress: [############........] cost: 0.3581\n",
      "Progress: [############........] cost: 0.3581\n",
      "Progress: [############........] cost: 0.3581\n",
      "Progress: [############........] cost: 0.3581\n",
      "Progress: [############........] cost: 0.3581\n",
      "Progress: [#############.......] cost: 0.3581\n",
      "Progress: [#############.......] cost: 0.3581\n",
      "Progress: [#############.......] cost: 0.3581\n",
      "Progress: [#############.......] cost: 0.3581\n",
      "Progress: [#############.......] cost: 0.3581\n",
      "Progress: [##############......] cost: 0.3581\n",
      "Progress: [##############......] cost: 0.3581\n",
      "Progress: [##############......] cost: 0.3581\n",
      "Progress: [##############......] cost: 0.3581\n",
      "Progress: [##############......] cost: 0.3581\n",
      "Progress: [###############.....] cost: 0.3581\n",
      "Progress: [###############.....] cost: 0.3581\n",
      "Progress: [###############.....] cost: 0.3581\n",
      "Progress: [###############.....] cost: 0.3581\n",
      "Progress: [###############.....] cost: 0.3581\n",
      "Progress: [################....] cost: 0.3581\n",
      "Progress: [################....] cost: 0.3581\n",
      "Progress: [################....] cost: 0.3581\n",
      "Progress: [################....] cost: 0.3581\n",
      "Progress: [################....] cost: 0.3580\n",
      "Progress: [#################...] cost: 0.3580\n",
      "Progress: [#################...] cost: 0.3580\n",
      "Progress: [#################...] cost: 0.3580\n",
      "Progress: [#################...] cost: 0.3580\n",
      "Progress: [#################...] cost: 0.3580\n",
      "Progress: [##################..] cost: 0.3580\n",
      "Progress: [##################..] cost: 0.3580\n",
      "Progress: [##################..] cost: 0.3580\n",
      "Progress: [##################..] cost: 0.3580\n",
      "Progress: [##################..] cost: 0.3580\n",
      "Progress: [###################.] cost: 0.3580\n",
      "Progress: [###################.] cost: 0.3580\n",
      "Progress: [###################.] cost: 0.3580\n",
      "Progress: [###################.] cost: 0.3580\n",
      "Progress: [###################.] cost: 0.3580\n",
      "train accuracy: 84.390 %\n",
      "test accuracy: 85.090 %\n",
      "cost delta: -0.00017\n"
     ]
    }
   ],
   "source": [
    "import logicRegression\n",
    "\n",
    "result = logicRegression.modelWithInitialWB(\n",
    "    trainSetX, trainSetY,\n",
    "    testSetX, testSetY,\n",
    "    w, b,\n",
    "    num_iterations, learning_rate,\n",
    "    cost_record_cnt, print_cost)"
   ]
  },
  {
   "cell_type": "code",
   "execution_count": 17,
   "metadata": {},
   "outputs": [
    {
     "name": "stdout",
     "output_type": "stream",
     "text": [
      "save to savedTrainingData.bin done\n"
     ]
    }
   ],
   "source": [
    "# 保存模型\n",
    "saveData = {\n",
    "    'w': result['w'],\n",
    "    'b': result['b'],\n",
    "    'costs': result['costs'],\n",
    "    'trainAccuracy': result['trainAccuracy'],\n",
    "    'testAccuracy': result['testAccuracy']\n",
    "\n",
    "}\n",
    "utils.save2File(saveData, saveDataFilePath)\n",
    "print('save to', saveDataFilePath, 'done')"
   ]
  }
 ],
 "metadata": {
  "kernelspec": {
   "display_name": "Python 3.8.13 ('py38')",
   "language": "python",
   "name": "python3"
  },
  "language_info": {
   "codemirror_mode": {
    "name": "ipython",
    "version": 3
   },
   "file_extension": ".py",
   "mimetype": "text/x-python",
   "name": "python",
   "nbconvert_exporter": "python",
   "pygments_lexer": "ipython3",
   "version": "3.8.13"
  },
  "orig_nbformat": 4,
  "vscode": {
   "interpreter": {
    "hash": "494831b43a99599d5d91bdae34840d0095925a464a7e6accd0857fa4b95316bf"
   }
  }
 },
 "nbformat": 4,
 "nbformat_minor": 2
}

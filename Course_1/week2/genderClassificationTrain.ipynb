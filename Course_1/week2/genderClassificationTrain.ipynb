{
 "cells": [
  {
   "cell_type": "code",
   "execution_count": 7,
   "metadata": {},
   "outputs": [],
   "source": [
    "# 设置参数\n",
    "trainSetPercent = 0.8\n",
    "num_iterations = 200\n",
    "learning_rate = 0.0001"
   ]
  },
  {
   "cell_type": "code",
   "execution_count": 8,
   "metadata": {},
   "outputs": [
    {
     "name": "stdout",
     "output_type": "stream",
     "text": [
      "data set count: 5996\n",
      "train set count: 4796\n",
      "test set count: 1200\n",
      "image size: 82944\n"
     ]
    }
   ],
   "source": [
    "# 准备数据\n",
    "import pandas as pd\n",
    "import numpy as np\n",
    "import math\n",
    "import matplotlib.pyplot as plt\n",
    "\n",
    "labels= pd.read_csv('labels_final.csv')\n",
    "print('data set count:', labels.shape[0])\n",
    "\n",
    "\n",
    "trainSetCount = math.floor(labels.shape[0] * trainSetPercent)\n",
    "if trainSetCount < 1: trainSetCount = 1\n",
    "testSetCount = labels.shape[0] - trainSetCount\n",
    "\n",
    "print('train set count:', trainSetCount)\n",
    "print('test set count:', testSetCount)\n",
    "\n",
    "imgDir = './images/resized/'\n",
    "imgSize = 0\n",
    "\n",
    "shuffledDataSet = np.array(labels)\n",
    "np.random.shuffle(shuffledDataSet)\n",
    "trainSetRange = shuffledDataSet[:trainSetCount, :]\n",
    "testSetRange = shuffledDataSet[trainSetCount:trainSetCount + testSetCount, :]\n",
    "\n",
    "trainSetX = []\n",
    "\n",
    "for row in trainSetRange:\n",
    "    img = plt.imread(imgDir + str(row[0]) + '.jpg')\n",
    "    if imgSize == 0: imgSize = img.size\n",
    "    elif imgSize != img.size:\n",
    "        raise ValueError(\"图片尺寸不一致\")\n",
    "    imgArray = np.array(img)\n",
    "    imgTrans = imgArray.reshape((1, img.size)).T\n",
    "    trainSetX.append(imgTrans)\n",
    "\n",
    "print('image size:', imgSize)"
   ]
  },
  {
   "cell_type": "code",
   "execution_count": 9,
   "metadata": {},
   "outputs": [],
   "source": [
    "# 构造训练集\n",
    "trainSetX = np.array(trainSetX)\n",
    "trainSetX = trainSetX.squeeze().T / 255\n",
    "trainSetY = trainSetRange[:,1:].T"
   ]
  },
  {
   "cell_type": "code",
   "execution_count": 10,
   "metadata": {},
   "outputs": [],
   "source": [
    "# 构造测试集\n",
    "testSetX = []\n",
    "\n",
    "for row in testSetRange:\n",
    "    img = plt.imread(imgDir + str(row[0]) + '.jpg')\n",
    "    if imgSize != img.size:\n",
    "        raise ValueError(\"图片尺寸不一致\")\n",
    "    imgArray = np.array(img)\n",
    "    imgTrans = imgArray.reshape((1, img.size)).T\n",
    "    testSetX.append(imgTrans)\n",
    "\n",
    "testSetX = np.array(testSetX).squeeze().T / 255\n",
    "testSetY = testSetRange[:,1:].T"
   ]
  },
  {
   "cell_type": "code",
   "execution_count": 11,
   "metadata": {},
   "outputs": [
    {
     "name": "stdout",
     "output_type": "stream",
     "text": [
      "last train accuracy: 90.64 %\n",
      "last test accuracy: 91.25 %\n",
      "(82944, 1)\n",
      "(82944, 4796)\n",
      "Progress: [..................................................] cost: 0.2450\n",
      "Progress: [..................................................] cost: 0.2449\n",
      "Progress: [#.................................................] cost: 0.2449\n",
      "Progress: [#.................................................] cost: 0.2449\n",
      "Progress: [##................................................] cost: 0.2449\n",
      "Progress: [##................................................] cost: 0.2449\n",
      "Progress: [###...............................................] cost: 0.2449\n",
      "Progress: [###...............................................] cost: 0.2449\n",
      "Progress: [####..............................................] cost: 0.2449\n",
      "Progress: [####..............................................] cost: 0.2449\n",
      "Progress: [#####.............................................] cost: 0.2449\n",
      "Progress: [#####.............................................] cost: 0.2449\n",
      "Progress: [######............................................] cost: 0.2448\n",
      "Progress: [######............................................] cost: 0.2448\n",
      "Progress: [#######...........................................] cost: 0.2448\n",
      "Progress: [#######...........................................] cost: 0.2448\n",
      "Progress: [########..........................................] cost: 0.2448\n",
      "Progress: [########..........................................] cost: 0.2448\n",
      "Progress: [#########.........................................] cost: 0.2448\n",
      "Progress: [#########.........................................] cost: 0.2448\n",
      "Progress: [##########........................................] cost: 0.2448\n",
      "Progress: [##########........................................] cost: 0.2448\n",
      "Progress: [###########.......................................] cost: 0.2448\n",
      "Progress: [###########.......................................] cost: 0.2448\n",
      "Progress: [############......................................] cost: 0.2448\n",
      "Progress: [############......................................] cost: 0.2448\n",
      "Progress: [#############.....................................] cost: 0.2448\n",
      "Progress: [#############.....................................] cost: 0.2447\n",
      "Progress: [##############....................................] cost: 0.2447\n",
      "Progress: [##############....................................] cost: 0.2447\n",
      "Progress: [###############...................................] cost: 0.2447\n",
      "Progress: [###############...................................] cost: 0.2447\n",
      "Progress: [################..................................] cost: 0.2447\n",
      "Progress: [################..................................] cost: 0.2447\n",
      "Progress: [#################.................................] cost: 0.2447\n",
      "Progress: [#################.................................] cost: 0.2447\n",
      "Progress: [##################................................] cost: 0.2447\n",
      "Progress: [##################................................] cost: 0.2447\n",
      "Progress: [###################...............................] cost: 0.2447\n",
      "Progress: [###################...............................] cost: 0.2447\n",
      "Progress: [####################..............................] cost: 0.2447\n",
      "Progress: [####################..............................] cost: 0.2447\n",
      "Progress: [#####################.............................] cost: 0.2447\n",
      "Progress: [#####################.............................] cost: 0.2447\n",
      "Progress: [######################............................] cost: 0.2446\n",
      "Progress: [######################............................] cost: 0.2446\n",
      "Progress: [#######################...........................] cost: 0.2446\n",
      "Progress: [#######################...........................] cost: 0.2446\n",
      "Progress: [########################..........................] cost: 0.2446\n",
      "Progress: [########################..........................] cost: 0.2446\n",
      "Progress: [#########################.........................] cost: 0.2446\n",
      "Progress: [#########################.........................] cost: 0.2446\n",
      "Progress: [##########################........................] cost: 0.2446\n",
      "Progress: [##########################........................] cost: 0.2446\n",
      "Progress: [###########################.......................] cost: 0.2446\n",
      "Progress: [###########################.......................] cost: 0.2446\n",
      "Progress: [############################......................] cost: 0.2446\n",
      "Progress: [############################......................] cost: 0.2446\n",
      "Progress: [############################......................] cost: 0.2446\n",
      "Progress: [#############################.....................] cost: 0.2446\n",
      "Progress: [##############################....................] cost: 0.2446\n",
      "Progress: [##############################....................] cost: 0.2446\n",
      "Progress: [###############################...................] cost: 0.2446\n",
      "Progress: [###############################...................] cost: 0.2445\n",
      "Progress: [################################..................] cost: 0.2445\n",
      "Progress: [################################..................] cost: 0.2445\n",
      "Progress: [#################################.................] cost: 0.2445\n",
      "Progress: [#################################.................] cost: 0.2445\n",
      "Progress: [##################################................] cost: 0.2445\n",
      "Progress: [##################################................] cost: 0.2445\n",
      "Progress: [###################################...............] cost: 0.2445\n",
      "Progress: [###################################...............] cost: 0.2445\n",
      "Progress: [####################################..............] cost: 0.2445\n",
      "Progress: [####################################..............] cost: 0.2445\n",
      "Progress: [#####################################.............] cost: 0.2445\n",
      "Progress: [#####################################.............] cost: 0.2445\n",
      "Progress: [######################################............] cost: 0.2445\n",
      "Progress: [######################################............] cost: 0.2445\n",
      "Progress: [#######################################...........] cost: 0.2445\n",
      "Progress: [#######################################...........] cost: 0.2445\n",
      "Progress: [########################################..........] cost: 0.2445\n",
      "Progress: [########################################..........] cost: 0.2445\n",
      "Progress: [#########################################.........] cost: 0.2445\n",
      "Progress: [#########################################.........] cost: 0.2445\n",
      "Progress: [##########################################........] cost: 0.2445\n",
      "Progress: [##########################################........] cost: 0.2445\n",
      "Progress: [###########################################.......] cost: 0.2444\n",
      "Progress: [###########################################.......] cost: 0.2444\n",
      "Progress: [############################################......] cost: 0.2444\n",
      "Progress: [############################################......] cost: 0.2444\n",
      "Progress: [#############################################.....] cost: 0.2444\n",
      "Progress: [#############################################.....] cost: 0.2444\n",
      "Progress: [##############################################....] cost: 0.2444\n",
      "Progress: [##############################################....] cost: 0.2444\n",
      "Progress: [###############################################...] cost: 0.2444\n",
      "Progress: [###############################################...] cost: 0.2444\n",
      "Progress: [################################################..] cost: 0.2444\n",
      "Progress: [################################################..] cost: 0.2444\n",
      "Progress: [#################################################.] cost: 0.2444\n",
      "Progress: [#################################################.] cost: 0.2444\n",
      "train accuracy: 90.930 %\n",
      "test accuracy: 89.000 %\n",
      "cost delta: -0.00059\n",
      "delta test accuracy: -2.2500\n"
     ]
    },
    {
     "data": {
      "image/png": "[encoded data removed]",
      "text/plain": [
       "<Figure size 432x288 with 1 Axes>"
      ]
     },
     "metadata": {
      "needs_background": "light"
     },
     "output_type": "display_data"
    }
   ],
   "source": [
    "# 训练\n",
    "import logicRegression\n",
    "import utils\n",
    "\n",
    "savedDataDir = './SavedTraining'\n",
    "saveDataFilePath = 'savedTrainingData.bin'\n",
    "\n",
    "loadedData = utils.loadFromeFile(saveDataFilePath)\n",
    "if loadedData is None:\n",
    "    loadedData = {\n",
    "        'w': np.zeros((trainSetX.shape[0],1)),\n",
    "        'b': 0\n",
    "    }\n",
    "else:\n",
    "    print('last train accuracy: %.2f %%' % loadedData['trainAccuracy'])\n",
    "    print('last test accuracy: %.2f %%' % loadedData['testAccuracy'])\n",
    "\n",
    "result = logicRegression.modelWithInitialWB(\n",
    "    trainSetX, trainSetY,\n",
    "    testSetX, testSetY,\n",
    "    initial_w = loadedData['w'], initial_b = loadedData['b'],\n",
    "    num_iterations = num_iterations, learning_rate = learning_rate,\n",
    "    cost_record_cnt = 100, print_cost = True)\n",
    "\n",
    "print('delta test accuracy: %.4f' % (result['testAccuracy'] - loadedData['testAccuracy']))\n",
    "    \n",
    "# Plot learning curve (with costs)\n",
    "costs = np.squeeze(result['costs'])\n",
    "plt.plot(costs)\n",
    "plt.ylabel('cost')\n",
    "plt.xlabel('iterations')\n",
    "plt.title(\"Learning rate =\" + str(result[\"learning_rate\"]))\n",
    "plt.show()"
   ]
  },
  {
   "cell_type": "code",
   "execution_count": 30,
   "metadata": {},
   "outputs": [
    {
     "name": "stdout",
     "output_type": "stream",
     "text": [
      "save to savedTrainingData.bin done\n"
     ]
    }
   ],
   "source": [
    "# 保存模型\n",
    "saveData = {\n",
    "    'w': result['w'],\n",
    "    'b': result['b'],\n",
    "    'costs': result['costs'],\n",
    "    'trainAccuracy': result['trainAccuracy'],\n",
    "    'testAccuracy': result['testAccuracy']\n",
    "\n",
    "}\n",
    "utils.save2File(saveData, saveDataFilePath)\n",
    "print('save to', saveDataFilePath, 'done')"
   ]
  }
 ],
 "metadata": {
  "kernelspec": {
   "display_name": "Python 3.8.13 ('py38')",
   "language": "python",
   "name": "python3"
  },
  "language_info": {
   "codemirror_mode": {
    "name": "ipython",
    "version": 3
   },
   "file_extension": ".py",
   "mimetype": "text/x-python",
   "name": "python",
   "nbconvert_exporter": "python",
   "pygments_lexer": "ipython3",
   "version": "3.8.13"
  },
  "orig_nbformat": 4,
  "vscode": {
   "interpreter": {
    "hash": "494831b43a99599d5d91bdae34840d0095925a464a7e6accd0857fa4b95316bf"
   }
  }
 },
 "nbformat": 4,
 "nbformat_minor": 2
}

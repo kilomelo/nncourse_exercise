{
 "cells": [
  {
   "cell_type": "code",
   "execution_count": 28,
   "metadata": {},
   "outputs": [
    {
     "name": "stdout",
     "output_type": "stream",
     "text": [
      "(5996, 2)\n"
     ]
    }
   ],
   "source": [
    "import pandas as pd\n",
    "import numpy as np\n",
    "\n",
    "labels= pd.read_csv('labels_final.csv')\n",
    "print(labels.shape)"
   ]
  },
  {
   "cell_type": "code",
   "execution_count": 29,
   "metadata": {},
   "outputs": [
    {
     "name": "stdout",
     "output_type": "stream",
     "text": [
      "image size: 727680\n"
     ]
    }
   ],
   "source": [
    "# 构造数据集和测试集\n",
    "from turtle import shape\n",
    "import matplotlib.pyplot as plt\n",
    "\n",
    "imgDir = './images/resized/'\n",
    "imgSize = 0\n",
    "trainSetY = np.array(labels)[:200,:]\n",
    "tranSetX = []\n",
    "for row in trainSetY:\n",
    "    # print(row)\n",
    "    # print(type(row))\n",
    "    img = plt.imread(imgDir + str(row[0]) + '.jpg')\n",
    "    if imgSize == 0: imgSize = img.size\n",
    "    elif imgSize != img.size:\n",
    "        raise ValueError(\"图片尺寸不一致\")\n",
    "    imgArray = np.array(img)\n",
    "    imgTrans = imgArray.reshape((1, img.size)).T\n",
    "    tranSetX.append(imgTrans)\n",
    "\n",
    "print('image size:', imgSize)"
   ]
  },
  {
   "cell_type": "code",
   "execution_count": 30,
   "metadata": {},
   "outputs": [],
   "source": [
    "tranSetX = np.array(tranSetX)\n",
    "tranSetX = tranSetX.squeeze().T"
   ]
  }
 ],
 "metadata": {
  "kernelspec": {
   "display_name": "Python 3.6.13 ('py36')",
   "language": "python",
   "name": "python3"
  },
  "language_info": {
   "codemirror_mode": {
    "name": "ipython",
    "version": 3
   },
   "file_extension": ".py",
   "mimetype": "text/x-python",
   "name": "python",
   "nbconvert_exporter": "python",
   "pygments_lexer": "ipython3",
   "version": "3.6.13"
  },
  "orig_nbformat": 4,
  "vscode": {
   "interpreter": {
    "hash": "40b751bbd668d3e980b4b8abf348dd91147112549a98ab2274de53ab90074bcb"
   }
  }
 },
 "nbformat": 4,
 "nbformat_minor": 2
}

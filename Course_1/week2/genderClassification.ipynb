{
 "cells": [
  {
   "cell_type": "code",
   "execution_count": 31,
   "metadata": {},
   "outputs": [],
   "source": [
    "# 设置参数\n",
    "trainSetPercent = 0.8\n",
    "num_iterations = 1000\n",
    "learning_rate = 0.001"
   ]
  },
  {
   "cell_type": "code",
   "execution_count": 32,
   "metadata": {},
   "outputs": [
    {
     "name": "stdout",
     "output_type": "stream",
     "text": [
      "data set count: 5996\n",
      "train set count: 4796\n",
      "test set count: 1200\n",
      "image size: 82944\n"
     ]
    }
   ],
   "source": [
    "# 准备数据\n",
    "import pandas as pd\n",
    "import numpy as np\n",
    "import math\n",
    "\n",
    "labels= pd.read_csv('labels_final.csv')\n",
    "print('data set count:', labels.shape[0])\n",
    "\n",
    "import matplotlib.pyplot as plt\n",
    "\n",
    "trainSetCount = math.floor(labels.shape[0] * trainSetPercent)\n",
    "if trainSetCount < 1: trainSetCount = 1\n",
    "testSetCount = labels.shape[0] - trainSetCount\n",
    "\n",
    "print('train set count:', trainSetCount)\n",
    "print('test set count:', testSetCount)\n",
    "\n",
    "imgDir = './images/resized/'\n",
    "imgSize = 0\n",
    "\n",
    "shuffledDataSet = np.array(labels)\n",
    "np.random.shuffle(shuffledDataSet)\n",
    "trainSetRange = shuffledDataSet[:trainSetCount, :]\n",
    "testSetRange = shuffledDataSet[trainSetCount:trainSetCount + testSetCount, :]\n",
    "\n",
    "trainSetX = []\n",
    "\n",
    "for row in trainSetRange:\n",
    "    img = plt.imread(imgDir + str(row[0]) + '.jpg')\n",
    "    if imgSize == 0: imgSize = img.size\n",
    "    elif imgSize != img.size:\n",
    "        raise ValueError(\"图片尺寸不一致\")\n",
    "    imgArray = np.array(img)\n",
    "    imgTrans = imgArray.reshape((1, img.size)).T\n",
    "    trainSetX.append(imgTrans)\n",
    "\n",
    "print('image size:', imgSize)"
   ]
  },
  {
   "cell_type": "code",
   "execution_count": 33,
   "metadata": {},
   "outputs": [],
   "source": [
    "# 构造训练集\n",
    "trainSetX = np.array(trainSetX)\n",
    "trainSetX = trainSetX.squeeze().T / 255\n",
    "trainSetY = trainSetRange[:,1:].T"
   ]
  },
  {
   "cell_type": "code",
   "execution_count": 34,
   "metadata": {},
   "outputs": [],
   "source": [
    "# 构造测试集\n",
    "testSetX = []\n",
    "\n",
    "for row in testSetRange:\n",
    "    img = plt.imread(imgDir + str(row[0]) + '.jpg')\n",
    "    if imgSize != img.size:\n",
    "        raise ValueError(\"图片尺寸不一致\")\n",
    "    imgArray = np.array(img)\n",
    "    imgTrans = imgArray.reshape((1, img.size)).T\n",
    "    testSetX.append(imgTrans)\n",
    "\n",
    "testSetX = np.array(testSetX).squeeze().T / 255\n",
    "testSetY = testSetRange[:,1:].T"
   ]
  },
  {
   "cell_type": "code",
   "execution_count": 35,
   "metadata": {},
   "outputs": [
    {
     "name": "stdout",
     "output_type": "stream",
     "text": [
      "last train accuracy: 90.64 %\n",
      "last test accuracy: 91.25 %\n",
      "Progress: [..................................................] cost: 0.250516\n",
      "Progress: [..................................................] cost: 0.250370\n",
      "Progress: [#.................................................] cost: 0.250528\n",
      "Progress: [#.................................................] cost: 0.252190\n",
      "Progress: [##................................................] cost: 0.262432\n",
      "Progress: [##................................................] cost: 0.312469\n",
      "Progress: [###...............................................] cost: 0.410280\n",
      "Progress: [###...............................................] cost: 0.413677\n",
      "Progress: [####..............................................] cost: 0.376498\n",
      "Progress: [####..............................................] cost: 0.347160\n",
      "Progress: [#####.............................................] cost: 0.328610\n",
      "Progress: [#####.............................................] cost: 0.317673\n",
      "Progress: [######............................................] cost: 0.311594\n",
      "Progress: [######............................................] cost: 0.308513\n",
      "Progress: [#######...........................................] cost: 0.307182\n",
      "Progress: [#######...........................................] cost: 0.306732\n",
      "Progress: [########..........................................] cost: 0.306562\n",
      "Progress: [########..........................................] cost: 0.306303\n",
      "Progress: [#########.........................................] cost: 0.305786\n",
      "Progress: [#########.........................................] cost: 0.304995\n",
      "Progress: [##########........................................] cost: 0.304000\n",
      "Progress: [##########........................................] cost: 0.302905\n",
      "Progress: [###########.......................................] cost: 0.301803\n",
      "Progress: [###########.......................................] cost: 0.300760\n",
      "Progress: [############......................................] cost: 0.299811\n",
      "Progress: [############......................................] cost: 0.298969\n",
      "Progress: [#############.....................................] cost: 0.298226\n",
      "Progress: [#############.....................................] cost: 0.297567\n",
      "Progress: [##############....................................] cost: 0.296974\n",
      "Progress: [##############....................................] cost: 0.296427\n",
      "Progress: [###############...................................] cost: 0.295913\n",
      "Progress: [###############...................................] cost: 0.295421\n",
      "Progress: [################..................................] cost: 0.294945\n",
      "Progress: [################..................................] cost: 0.294481\n",
      "Progress: [#################.................................] cost: 0.294030\n",
      "Progress: [#################.................................] cost: 0.293591\n",
      "Progress: [##################................................] cost: 0.293165\n",
      "Progress: [##################................................] cost: 0.292754\n",
      "Progress: [###################...............................] cost: 0.292358\n",
      "Progress: [###################...............................] cost: 0.291977\n",
      "Progress: [####################..............................] cost: 0.291611\n",
      "Progress: [####################..............................] cost: 0.291258\n",
      "Progress: [#####################.............................] cost: 0.290917\n",
      "Progress: [#####################.............................] cost: 0.290588\n",
      "Progress: [######################............................] cost: 0.290270\n",
      "Progress: [######################............................] cost: 0.289960\n",
      "Progress: [#######################...........................] cost: 0.289659\n",
      "Progress: [#######################...........................] cost: 0.289365\n",
      "Progress: [########################..........................] cost: 0.289079\n",
      "Progress: [########################..........................] cost: 0.288799\n",
      "Progress: [#########################.........................] cost: 0.288525\n",
      "Progress: [#########################.........................] cost: 0.288258\n",
      "Progress: [##########################........................] cost: 0.287996\n",
      "Progress: [##########################........................] cost: 0.287740\n",
      "Progress: [###########################.......................] cost: 0.287488\n",
      "Progress: [###########################.......................] cost: 0.287242\n",
      "Progress: [############################......................] cost: 0.287000\n",
      "Progress: [############################......................] cost: 0.286763\n",
      "Progress: [############################......................] cost: 0.286531\n",
      "Progress: [#############################.....................] cost: 0.286302\n",
      "Progress: [##############################....................] cost: 0.286077\n",
      "Progress: [##############################....................] cost: 0.285855\n",
      "Progress: [###############################...................] cost: 0.285637\n",
      "Progress: [###############################...................] cost: 0.285422\n",
      "Progress: [################################..................] cost: 0.285211\n",
      "Progress: [################################..................] cost: 0.285002\n",
      "Progress: [#################################.................] cost: 0.284796\n",
      "Progress: [#################################.................] cost: 0.284593\n",
      "Progress: [##################################................] cost: 0.284392\n",
      "Progress: [##################################................] cost: 0.284194\n",
      "Progress: [###################################...............] cost: 0.283999\n",
      "Progress: [###################################...............] cost: 0.283805\n",
      "Progress: [####################################..............] cost: 0.283614\n",
      "Progress: [####################################..............] cost: 0.283425\n",
      "Progress: [#####################################.............] cost: 0.283238\n",
      "Progress: [#####################################.............] cost: 0.283053\n",
      "Progress: [######################################............] cost: 0.282870\n",
      "Progress: [######################################............] cost: 0.282688\n",
      "Progress: [#######################################...........] cost: 0.282509\n",
      "Progress: [#######################################...........] cost: 0.282331\n",
      "Progress: [########################################..........] cost: 0.282155\n",
      "Progress: [########################################..........] cost: 0.281980\n",
      "Progress: [#########################################.........] cost: 0.281807\n",
      "Progress: [#########################################.........] cost: 0.281636\n",
      "Progress: [##########################################........] cost: 0.281465\n",
      "Progress: [##########################################........] cost: 0.281297\n",
      "Progress: [###########################################.......] cost: 0.281129\n",
      "Progress: [###########################################.......] cost: 0.280963\n",
      "Progress: [############################################......] cost: 0.280799\n",
      "Progress: [############################################......] cost: 0.280635\n",
      "Progress: [#############################################.....] cost: 0.280473\n",
      "Progress: [#############################################.....] cost: 0.280312\n",
      "Progress: [##############################################....] cost: 0.280152\n",
      "Progress: [##############################################....] cost: 0.279993\n",
      "Progress: [###############################################...] cost: 0.279835\n",
      "Progress: [###############################################...] cost: 0.279679\n",
      "Progress: [################################################..] cost: 0.279523\n",
      "Progress: [################################################..] cost: 0.279368\n",
      "Progress: [#################################################.] cost: 0.279215\n",
      "Progress: [#################################################.] cost: 0.279062\n",
      "train accuracy: 88.240 %\n",
      "test accuracy: 86.667 %\n",
      "cost delta: 0.02855\n",
      "delta test accuracy: -4.5833\n"
     ]
    },
    {
     "data": {
      "image/png": "[encoded data removed]",
      "text/plain": [
       "<Figure size 432x288 with 1 Axes>"
      ]
     },
     "metadata": {
      "needs_background": "light"
     },
     "output_type": "display_data"
    }
   ],
   "source": [
    "# 训练\n",
    "from json import load\n",
    "import logicRegression\n",
    "import utils\n",
    "\n",
    "savedDataDir = './SavedTraining'\n",
    "saveDataFilePath = 'savedTrainingData.bin'\n",
    "\n",
    "loadedData = utils.loadFromeFile(saveDataFilePath)\n",
    "if loadedData is None:\n",
    "    loadedData = {\n",
    "        'w': np.zeros((trainSetX.shape[0],1)),\n",
    "        'b': 0\n",
    "    }\n",
    "else:\n",
    "    print('last train accuracy: %.2f %%' % loadedData['trainAccuracy'])\n",
    "    print('last test accuracy: %.2f %%' % loadedData['testAccuracy'])\n",
    "\n",
    "result = logicRegression.modelWithInitialWB(\n",
    "    trainSetX, trainSetY,\n",
    "    testSetX, testSetY,\n",
    "    initial_w = loadedData['w'], initial_b = loadedData['b'],\n",
    "    num_iterations = num_iterations, learning_rate = learning_rate,\n",
    "    cost_record_cnt = 100, print_cost = True)\n",
    "\n",
    "print('delta test accuracy: %.4f' % (result['testAccuracy'] - loadedData['testAccuracy']))\n",
    "    \n",
    "# Plot learning curve (with costs)\n",
    "costs = np.squeeze(result['costs'])\n",
    "plt.plot(costs)\n",
    "plt.ylabel('cost')\n",
    "plt.xlabel('iterations')\n",
    "plt.title(\"Learning rate =\" + str(result[\"learning_rate\"]))\n",
    "plt.show()"
   ]
  },
  {
   "cell_type": "code",
   "execution_count": 30,
   "metadata": {},
   "outputs": [
    {
     "name": "stdout",
     "output_type": "stream",
     "text": [
      "save to savedTrainingData.bin done\n"
     ]
    }
   ],
   "source": [
    "# 保存模型\n",
    "saveData = {\n",
    "    'w': result['w'],\n",
    "    'b': result['b'],\n",
    "    'costs': result['costs'],\n",
    "    'trainAccuracy': result['trainAccuracy'],\n",
    "    'testAccuracy': result['testAccuracy']\n",
    "\n",
    "}\n",
    "utils.save2File(saveData, saveDataFilePath)\n",
    "print('save to', saveDataFilePath, 'done')"
   ]
  }
 ],
 "metadata": {
  "kernelspec": {
   "display_name": "Python 3.8.13 ('py38')",
   "language": "python",
   "name": "python3"
  },
  "language_info": {
   "codemirror_mode": {
    "name": "ipython",
    "version": 3
   },
   "file_extension": ".py",
   "mimetype": "text/x-python",
   "name": "python",
   "nbconvert_exporter": "python",
   "pygments_lexer": "ipython3",
   "version": "3.8.13"
  },
  "orig_nbformat": 4,
  "vscode": {
   "interpreter": {
    "hash": "9588c58e218e3a9874d549bafbb26b5256434620a54f1bac9f7fe29051d12c0d"
   }
  }
 },
 "nbformat": 4,
 "nbformat_minor": 2
}

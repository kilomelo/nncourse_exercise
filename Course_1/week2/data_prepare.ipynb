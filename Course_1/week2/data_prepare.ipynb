{
 "cells": [
  {
   "cell_type": "code",
   "execution_count": 2,
   "metadata": {},
   "outputs": [],
   "source": [
    "import pandas as pd\n",
    "import numpy as np\n",
    "from utils import getAllImageInfo\n",
    "\n",
    "data = pd.read_csv('user_info_desensitized.csv')\n",
    "images = getAllImageInfo('./face')"
   ]
  },
  {
   "cell_type": "code",
   "execution_count": 7,
   "metadata": {},
   "outputs": [
    {
     "name": "stdout",
     "output_type": "stream",
     "text": [
      "<class 'pandas.core.series.Series'>\n",
      "(6023, 3)\n",
      "<class 'list'>\n",
      "6040\n",
      "6000\n"
     ]
    }
   ],
   "source": [
    "print(type(data['user_id']))\n",
    "print(data.shape)\n",
    "print(type(images[0]))\n",
    "print(len(images[0]))\n",
    "\n",
    "intersection = set(data['user_id'].apply(str)) & set(images[0])\n",
    "print(len(intersection))"
   ]
  }
 ],
 "metadata": {
  "kernelspec": {
   "display_name": "Python 3.6.13 ('py36')",
   "language": "python",
   "name": "python3"
  },
  "language_info": {
   "codemirror_mode": {
    "name": "ipython",
    "version": 3
   },
   "file_extension": ".py",
   "mimetype": "text/x-python",
   "name": "python",
   "nbconvert_exporter": "python",
   "pygments_lexer": "ipython3",
   "version": "3.6.13"
  },
  "orig_nbformat": 4,
  "vscode": {
   "interpreter": {
    "hash": "40b751bbd668d3e980b4b8abf348dd91147112549a98ab2274de53ab90074bcb"
   }
  }
 },
 "nbformat": 4,
 "nbformat_minor": 2
}

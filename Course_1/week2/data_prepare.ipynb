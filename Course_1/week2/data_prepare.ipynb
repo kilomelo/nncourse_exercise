{
 "cells": [
  {
   "cell_type": "code",
   "execution_count": 48,
   "metadata": {},
   "outputs": [],
   "source": [
    "import pandas as pd\n",
    "import numpy as np\n",
    "from utils import getAllImageInfo\n",
    "\n",
    "data = pd.read_csv('user_info_desensitized.csv')\n",
    "images = getAllImageInfo('./images/faces')"
   ]
  },
  {
   "cell_type": "code",
   "execution_count": 49,
   "metadata": {},
   "outputs": [
    {
     "name": "stdout",
     "output_type": "stream",
     "text": [
      "<class 'pandas.core.series.Series'>\n",
      "(6023, 3)\n",
      "<class 'list'>\n",
      "6040\n",
      "6000\n",
      "<class 'pandas.core.indexes.numeric.Int64Index'>\n",
      "(23,)\n",
      "Int64Index([ 504, 1036, 1138, 1502, 1636, 1789, 2060, 2696, 2750, 2852, 2887,\n",
      "            2917, 3041, 3193, 3368, 3385, 3872, 4093, 4889, 4950, 5657, 5738,\n",
      "            5884],\n",
      "           dtype='int64')\n",
      "(6000, 2)\n"
     ]
    }
   ],
   "source": [
    "# 处理label和faces数据集\n",
    "# 删除有label，无数据的行\n",
    "print(type(data['user_id']))\n",
    "print(data.shape)\n",
    "print(type(images[0]))\n",
    "print(len(images[0]))\n",
    "\n",
    "intersection = set(data['user_id'].apply(str)) & set(images[0])\n",
    "print(len(intersection))\n",
    "\n",
    "data.drop(data.columns[[0]], axis=1, inplace=True)\n",
    "data['has_image'] = data.apply(lambda row: str(row['user_id']) in intersection, axis=1)\n",
    "# data.drop(data[data['user_id'] not in intersection].index)\n",
    "\n",
    "has_no_image_index = data[data['has_image'] == False].index\n",
    "print(type(has_no_image_index))\n",
    "print(has_no_image_index.shape)\n",
    "print(has_no_image_index)\n",
    "data.drop(has_no_image_index, inplace=True)\n",
    "\n",
    "data.drop('has_image', axis=1, inplace=True)\n",
    "print(data.shape)\n",
    "data.to_csv('labels_clean.csv', index=False)"
   ]
  },
  {
   "cell_type": "code",
   "execution_count": 51,
   "metadata": {},
   "outputs": [
    {
     "name": "stdout",
     "output_type": "stream",
     "text": [
      "(6000, 2)\n",
      "<class 'pandas.core.frame.DataFrame'>\n",
      "(2943, 2)\n",
      "        user_id  gender\n",
      "13    175437839       0\n",
      "25    150694103       0\n",
      "27    162435975       0\n",
      "28    171356134       0\n",
      "30    162770975       0\n",
      "...         ...     ...\n",
      "5993  195274715       0\n",
      "5994  210383781       0\n",
      "5996  154231922       0\n",
      "5997  173612367       0\n",
      "5999  162437154       0\n",
      "\n",
      "[2943 rows x 2 columns]\n"
     ]
    }
   ],
   "source": [
    "labels_clean = pd.read_csv('labels_clean.csv')\n",
    "print(labels_clean.shape)\n",
    "\n",
    "females = labels_clean[labels_clean['gender'] == 0]\n",
    "print(type(females))\n",
    "print(females.shape)\n",
    "print(females)"
   ]
  }
 ],
 "metadata": {
  "kernelspec": {
   "display_name": "Python 3.6.13 ('py36')",
   "language": "python",
   "name": "python3"
  },
  "language_info": {
   "codemirror_mode": {
    "name": "ipython",
    "version": 3
   },
   "file_extension": ".py",
   "mimetype": "text/x-python",
   "name": "python",
   "nbconvert_exporter": "python",
   "pygments_lexer": "ipython3",
   "version": "3.6.13"
  },
  "orig_nbformat": 4,
  "vscode": {
   "interpreter": {
    "hash": "7bc89e645aea6ea53bd09760fa4f58a0d99e0f3d6083568cf6b639bfdb1292a1"
   }
  }
 },
 "nbformat": 4,
 "nbformat_minor": 2
}

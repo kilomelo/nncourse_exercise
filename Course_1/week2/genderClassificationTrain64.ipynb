{
 "cells": [
  {
   "cell_type": "code",
   "execution_count": 1,
   "metadata": {},
   "outputs": [],
   "source": [
    "# 设置参数\n",
    "import pandas as pd\n",
    "import numpy as np\n",
    "import math\n",
    "import matplotlib.pyplot as plt\n",
    "import psutil\n",
    "%reload_ext autoreload\n",
    "%autoreload 2\n",
    "\n",
    "imgDir = './images/resized/'\n",
    "savedDataDir = './SavedTraining'\n",
    "saveDataFilePath = 'savedTrainingData.bin'\n",
    "labels_path = 'labels_final.csv'\n",
    "\n",
    "loadLastTrainData = True\n",
    "sliceRandomSeed = -1\n",
    "trainSetPercent = 0.5\n",
    "learning_rate = 0.01\n",
    "num_loops = 10\n",
    "num_iterations = 100\n",
    "\n",
    "if sliceRandomSeed > 0: np.random.seed = sliceRandomSeed"
   ]
  },
  {
   "cell_type": "code",
   "execution_count": 2,
   "metadata": {},
   "outputs": [
    {
     "name": "stdout",
     "output_type": "stream",
     "text": [
      "last train accuracy: 84.56 %\n",
      "last test accuracy: 85.19 %\n",
      "data set count: 5996\n",
      "memory used 17.759 GB of 63.732 GB | 28 %\n"
     ]
    }
   ],
   "source": [
    "import utils\n",
    "\n",
    "if loadLastTrainData: loadedData = utils.loadFromeFile(saveDataFilePath)\n",
    "else: loadedData = None\n",
    "if loadedData is None:\n",
    "    loadedData = {\n",
    "        'w': np.zeros((dataSet.shape[0],1), dtype=\"float64\"),\n",
    "        'b': 0.,\n",
    "        'testAccuracy': 0.,\n",
    "        'costs': [0.]\n",
    "    }\n",
    "else:\n",
    "    print('last train accuracy: %.2f %%' % loadedData['trainAccuracy'])\n",
    "    print('last test accuracy: %.2f %%' % loadedData['testAccuracy'])\n",
    "\n",
    "\n",
    "w = loadedData['w']\n",
    "b = loadedData['b']\n",
    "lastCost = loadedData['costs'][-1]\n",
    "lastTestAccuracy = loadedData['testAccuracy']\n",
    "\n",
    "labels= pd.read_csv(labels_path)\n",
    "print('data set count:', labels.shape[0])\n",
    "\n",
    "memUsage = psutil.virtual_memory()\n",
    "print('memory used %.3f GB of %.3f GB | %.0f %%' % (memUsage.used / 1024 / 1024 / 1024, memUsage.total / 1024 / 1024 / 1024, memUsage.percent))"
   ]
  },
  {
   "cell_type": "code",
   "execution_count": 3,
   "metadata": {},
   "outputs": [
    {
     "name": "stdout",
     "output_type": "stream",
     "text": [
      "train set count: 2998\n",
      "test set count: 2998\n",
      "image size: 331776\n",
      "memory used 32.252 GB of 63.732 GB | 51 %\n"
     ]
    }
   ],
   "source": [
    "trainSetCount = math.floor(labels.shape[0] * trainSetPercent)\n",
    "if trainSetCount < 1: trainSetCount = 1\n",
    "testSetCount = labels.shape[0] - trainSetCount\n",
    "\n",
    "print('train set count:', trainSetCount)\n",
    "print('test set count:', testSetCount)\n",
    "\n",
    "imgDir = './images/resized/'\n",
    "imgSize = 0\n",
    "\n",
    "np.random.seed = sliceRandomSeed\n",
    "shuffledDataSet = np.array(labels)\n",
    "# np.random.shuffle(shuffledDataSet)\n",
    "trainSetRange = shuffledDataSet[:trainSetCount, :]\n",
    "testSetRange = shuffledDataSet[trainSetCount:trainSetCount + testSetCount, :]\n",
    "\n",
    "trainSetX = []\n",
    "\n",
    "for row in trainSetRange:\n",
    "    img = plt.imread(imgDir + str(row[0]) + '.jpg')\n",
    "    if imgSize == 0: imgSize = img.size\n",
    "    elif imgSize != img.size:\n",
    "        raise ValueError(\"图片尺寸不一致\")\n",
    "    imgArray = np.array(img)\n",
    "    imgTrans = imgArray.reshape((1, img.size)).T\n",
    "    trainSetX.append(imgTrans)\n",
    "\n",
    "print('image size:', imgSize)\n",
    "\n",
    "# 构造训练集\n",
    "trainSetX = np.array(trainSetX)\n",
    "trainSetX = trainSetX.squeeze().T / 2550\n",
    "trainSetY = trainSetRange[:,1:].T\n",
    "\n",
    "# 构造测试集\n",
    "testSetX = []\n",
    "\n",
    "for row in testSetRange:\n",
    "    img = plt.imread(imgDir + str(row[0]) + '.jpg')\n",
    "    if imgSize != img.size:\n",
    "        raise ValueError(\"图片尺寸不一致\")\n",
    "    imgArray = np.array(img)\n",
    "    imgTrans = imgArray.reshape((1, img.size)).T\n",
    "    testSetX.append(imgTrans)\n",
    "\n",
    "testSetX = np.array(testSetX).squeeze().T / 2550\n",
    "testSetY = testSetRange[:,1:].T\n",
    "\n",
    "memUsage = psutil.virtual_memory()\n",
    "print('memory used %.3f GB of %.3f GB | %.0f %%' % (memUsage.used / 1024 / 1024 / 1024, memUsage.total / 1024 / 1024 / 1024, memUsage.percent))"
   ]
  },
  {
   "cell_type": "code",
   "execution_count": 3,
   "metadata": {},
   "outputs": [
    {
     "name": "stdout",
     "output_type": "stream",
     "text": [
      "train set count: 2998\n",
      "test set count: 2998\n",
      "<class 'numpy.ndarray'>\n",
      "(5996, 331777)\n",
      "memory used 31.142 GB of 63.732 GB | 49 %\n"
     ]
    }
   ],
   "source": [
    "# 准备数据\n",
    "\n",
    "imgSize = 0\n",
    "\n",
    "\n",
    "trainSetCount = math.floor(labels.shape[0] * trainSetPercent)\n",
    "if trainSetCount < 1: trainSetCount = 1\n",
    "testSetCount = labels.shape[0] - trainSetCount\n",
    "\n",
    "print('train set count:', trainSetCount)\n",
    "print('test set count:', testSetCount)\n",
    "\n",
    "\n",
    "dataSet = []\n",
    "for row in labels.iterrows():\n",
    "    img = plt.imread(imgDir + str(row[1]['user_id']) + '.jpg')\n",
    "    if imgSize == 0: imgSize = img.size\n",
    "    elif imgSize != img.size:\n",
    "        raise ValueError(\"图片尺寸不一致\")\n",
    "    imgArray = np.vstack([np.array(img, dtype=\"float64\").reshape((1, img.size)).T / 2550, row[1]['gender']])\n",
    "    dataSet.append(imgArray)\n",
    "del labels\n",
    "\n",
    "dataSet = np.array(dataSet, dtype='float64').squeeze()\n",
    "print(type(dataSet))\n",
    "print(dataSet.shape)\n",
    "\n",
    "memUsage = psutil.virtual_memory()\n",
    "print('memory used %.3f GB of %.3f GB | %.0f %%' % (memUsage.used / 1024 / 1024 / 1024, memUsage.total / 1024 / 1024 / 1024, memUsage.percent))"
   ]
  },
  {
   "cell_type": "code",
   "execution_count": 4,
   "metadata": {},
   "outputs": [
    {
     "name": "stdout",
     "output_type": "stream",
     "text": [
      "(5996, 331777)\n",
      "memory used 30.801 GB of 63.732 GB | 48 %\n"
     ]
    }
   ],
   "source": [
    "\n",
    "np.random.shuffle(dataSet)\n",
    "print(dataSet.shape)\n",
    "\n",
    "memUsage = psutil.virtual_memory()\n",
    "print('memory used %.3f GB of %.3f GB | %.0f %%' % (memUsage.used / 1024 / 1024 / 1024, memUsage.total / 1024 / 1024 / 1024, memUsage.percent))"
   ]
  },
  {
   "cell_type": "code",
   "execution_count": 5,
   "metadata": {},
   "outputs": [
    {
     "name": "stdout",
     "output_type": "stream",
     "text": [
      "memory used 30.825 GB of 63.732 GB | 48 %\n"
     ]
    }
   ],
   "source": [
    "# def sliceData(dataSet, trainSetCount):\n",
    "    # \"\"\"\n",
    "\n",
    "    # \"\"\"\n",
    "    # trainSetCount = math.floor(labels.shape[0] * trainSetPercent)\n",
    "    # if trainSetCount < 1: trainSetCount = 1\n",
    "    # testSetCount = labels.shape[0] - trainSetCount\n",
    "dataSetTrans = dataSet.T\n",
    "\n",
    "trainSetX = dataSetTrans[:-1, :trainSetCount]\n",
    "trainSetY = dataSetTrans[-1:, :trainSetCount]#.astype('int64')\n",
    "testSetX = dataSetTrans[:-1, trainSetCount:]\n",
    "testSetY = dataSetTrans[-1:, trainSetCount:]#.astype('int64')\n",
    "# return trainSetX, trainSetY, testSetX, testSetY\n",
    "\n",
    "memUsage = psutil.virtual_memory()\n",
    "print('memory used %.3f GB of %.3f GB | %.0f %%' % (memUsage.used / 1024 / 1024 / 1024, memUsage.total / 1024 / 1024 / 1024, memUsage.percent))"
   ]
  },
  {
   "cell_type": "code",
   "execution_count": 12,
   "metadata": {},
   "outputs": [
    {
     "name": "stdout",
     "output_type": "stream",
     "text": [
      "trainSetX.shape (331776, 2998)\n",
      "trainSetY.shape (1, 2998)\n",
      "testSetX.shape (331776, 2998)\n",
      "testSetY.shape (1, 2998)\n",
      "w.shape: (331776, 1)\n",
      "trainSetX data type: float64\n",
      "trainSetY data type: float64\n",
      "testSetX data type: float64\n",
      "testSetY data type: float64\n",
      "w data type: float64\n",
      "b data type: float64\n"
     ]
    }
   ],
   "source": [
    "# trainSetX, trainSetY, testSetX, testSetY = sliceData(dataSet.T, trainSetCount)\n",
    "print('trainSetX.shape', trainSetX.shape)\n",
    "print('trainSetY.shape', trainSetY.shape)\n",
    "print('testSetX.shape', testSetX.shape)\n",
    "print('testSetY.shape', testSetY.shape)\n",
    "print('w.shape:', w.shape)\n",
    "print('trainSetX data type:', trainSetX.dtype)\n",
    "print('trainSetY data type:', trainSetY.dtype)\n",
    "print('testSetX data type:', testSetX.dtype)\n",
    "print('testSetY data type:', testSetY.dtype)\n",
    "print('w data type:', w.dtype)\n",
    "print('b data type:', b.dtype)"
   ]
  },
  {
   "cell_type": "code",
   "execution_count": 6,
   "metadata": {},
   "outputs": [
    {
     "name": "stdout",
     "output_type": "stream",
     "text": [
      "memory used 30.869 GB of 63.732 GB | 48 %\n",
      "Progress: [....................] cost: 0.3592\n",
      "Progress: [....................] cost: 0.3590\n"
     ]
    },
    {
     "ename": "KeyboardInterrupt",
     "evalue": "",
     "output_type": "error",
     "traceback": [
      "\u001b[1;31m---------------------------------------------------------------------------\u001b[0m",
      "\u001b[1;31mKeyboardInterrupt\u001b[0m                         Traceback (most recent call last)",
      "\u001b[1;32mc:\\Dev\\kilomelo\\nncourse_exercise\\Course_1\\week2\\genderClassificationTrain64.ipynb Cell 8\u001b[0m in \u001b[0;36m<cell line: 4>\u001b[1;34m()\u001b[0m\n\u001b[0;32m      <a href='vscode-notebook-cell:/c%3A/Dev/kilomelo/nncourse_exercise/Course_1/week2/genderClassificationTrain64.ipynb#X10sZmlsZQ%3D%3D?line=1'>2</a>\u001b[0m memUsage \u001b[39m=\u001b[39m psutil\u001b[39m.\u001b[39mvirtual_memory()\n\u001b[0;32m      <a href='vscode-notebook-cell:/c%3A/Dev/kilomelo/nncourse_exercise/Course_1/week2/genderClassificationTrain64.ipynb#X10sZmlsZQ%3D%3D?line=2'>3</a>\u001b[0m \u001b[39mprint\u001b[39m(\u001b[39m'\u001b[39m\u001b[39mmemory used \u001b[39m\u001b[39m%.3f\u001b[39;00m\u001b[39m GB of \u001b[39m\u001b[39m%.3f\u001b[39;00m\u001b[39m GB | \u001b[39m\u001b[39m%.0f\u001b[39;00m\u001b[39m \u001b[39m\u001b[39m%%\u001b[39;00m\u001b[39m'\u001b[39m \u001b[39m%\u001b[39m (memUsage\u001b[39m.\u001b[39mused \u001b[39m/\u001b[39m \u001b[39m1024\u001b[39m \u001b[39m/\u001b[39m \u001b[39m1024\u001b[39m \u001b[39m/\u001b[39m \u001b[39m1024\u001b[39m, memUsage\u001b[39m.\u001b[39mtotal \u001b[39m/\u001b[39m \u001b[39m1024\u001b[39m \u001b[39m/\u001b[39m \u001b[39m1024\u001b[39m \u001b[39m/\u001b[39m \u001b[39m1024\u001b[39m, memUsage\u001b[39m.\u001b[39mpercent))\n\u001b[1;32m----> <a href='vscode-notebook-cell:/c%3A/Dev/kilomelo/nncourse_exercise/Course_1/week2/genderClassificationTrain64.ipynb#X10sZmlsZQ%3D%3D?line=3'>4</a>\u001b[0m result \u001b[39m=\u001b[39m logicRegression\u001b[39m.\u001b[39;49mmodelWithInitialWB(\n\u001b[0;32m      <a href='vscode-notebook-cell:/c%3A/Dev/kilomelo/nncourse_exercise/Course_1/week2/genderClassificationTrain64.ipynb#X10sZmlsZQ%3D%3D?line=4'>5</a>\u001b[0m     trainSetX, trainSetY,\n\u001b[0;32m      <a href='vscode-notebook-cell:/c%3A/Dev/kilomelo/nncourse_exercise/Course_1/week2/genderClassificationTrain64.ipynb#X10sZmlsZQ%3D%3D?line=5'>6</a>\u001b[0m     testSetX, testSetY,\n\u001b[0;32m      <a href='vscode-notebook-cell:/c%3A/Dev/kilomelo/nncourse_exercise/Course_1/week2/genderClassificationTrain64.ipynb#X10sZmlsZQ%3D%3D?line=6'>7</a>\u001b[0m     w, b,\n\u001b[0;32m      <a href='vscode-notebook-cell:/c%3A/Dev/kilomelo/nncourse_exercise/Course_1/week2/genderClassificationTrain64.ipynb#X10sZmlsZQ%3D%3D?line=7'>8</a>\u001b[0m     num_iterations, learning_rate,\n\u001b[0;32m      <a href='vscode-notebook-cell:/c%3A/Dev/kilomelo/nncourse_exercise/Course_1/week2/genderClassificationTrain64.ipynb#X10sZmlsZQ%3D%3D?line=8'>9</a>\u001b[0m     cost_record_cnt \u001b[39m=\u001b[39;49m \u001b[39m100\u001b[39;49m, print_cost \u001b[39m=\u001b[39;49m \u001b[39mTrue\u001b[39;49;00m)\n",
      "File \u001b[1;32mc:\\Dev\\kilomelo\\nncourse_exercise\\Course_1\\week2\\logicRegression.py:215\u001b[0m, in \u001b[0;36mmodelWithInitialWB\u001b[1;34m(X_train, Y_train, X_test, Y_test, initial_w, initial_b, num_iterations, learning_rate, cost_record_cnt, print_cost)\u001b[0m\n\u001b[0;32m    212\u001b[0m w \u001b[39m=\u001b[39m initial_w\n\u001b[0;32m    213\u001b[0m b \u001b[39m=\u001b[39m initial_b\n\u001b[1;32m--> 215\u001b[0m parameters, grads, costs, costDelta \u001b[39m=\u001b[39m optimize(w, b, X_train, Y_train, num_iterations, learning_rate, cost_record_cnt, print_cost)\n\u001b[0;32m    218\u001b[0m w \u001b[39m=\u001b[39m parameters[\u001b[39m\"\u001b[39m\u001b[39mw\u001b[39m\u001b[39m\"\u001b[39m]\n\u001b[0;32m    219\u001b[0m b \u001b[39m=\u001b[39m parameters[\u001b[39m\"\u001b[39m\u001b[39mb\u001b[39m\u001b[39m\"\u001b[39m]\n",
      "File \u001b[1;32mc:\\Dev\\kilomelo\\nncourse_exercise\\Course_1\\week2\\logicRegression.py:117\u001b[0m, in \u001b[0;36moptimize\u001b[1;34m(w, b, X, Y, num_iterations, learning_rate, cost_record_cnt, print_cost)\u001b[0m\n\u001b[0;32m    112\u001b[0m recordCostInterval \u001b[39m=\u001b[39m \u001b[39mmax\u001b[39m(math\u001b[39m.\u001b[39mfloor(num_iterations \u001b[39m/\u001b[39m cost_record_cnt), \u001b[39m1\u001b[39m)\n\u001b[0;32m    114\u001b[0m \u001b[39mfor\u001b[39;00m i \u001b[39min\u001b[39;00m \u001b[39mrange\u001b[39m(num_iterations):\n\u001b[1;32m--> 117\u001b[0m     grads, cost \u001b[39m=\u001b[39m propagate(w, b, X, Y, i)\n\u001b[0;32m    119\u001b[0m     dw \u001b[39m=\u001b[39m grads[\u001b[39m\"\u001b[39m\u001b[39mdw\u001b[39m\u001b[39m\"\u001b[39m]\n\u001b[0;32m    120\u001b[0m     db \u001b[39m=\u001b[39m grads[\u001b[39m\"\u001b[39m\u001b[39mdb\u001b[39m\u001b[39m\"\u001b[39m]\n",
      "File \u001b[1;32mc:\\Dev\\kilomelo\\nncourse_exercise\\Course_1\\week2\\logicRegression.py:57\u001b[0m, in \u001b[0;36mpropagate\u001b[1;34m(w, b, X, Y, iterCnt)\u001b[0m\n\u001b[0;32m     38\u001b[0m \u001b[39m\"\"\"\u001b[39;00m\n\u001b[0;32m     39\u001b[0m \u001b[39mImplement the cost function and its gradient for the propagation explained above\u001b[39;00m\n\u001b[0;32m     40\u001b[0m \n\u001b[1;32m   (...)\u001b[0m\n\u001b[0;32m     53\u001b[0m \u001b[39m- Write your code step by step for the propagation. np.log(), np.dot()\u001b[39;00m\n\u001b[0;32m     54\u001b[0m \u001b[39m\"\"\"\u001b[39;00m\n\u001b[0;32m     55\u001b[0m m \u001b[39m=\u001b[39m X\u001b[39m.\u001b[39mshape[\u001b[39m1\u001b[39m]\n\u001b[1;32m---> 57\u001b[0m A \u001b[39m=\u001b[39m sigmoid(np\u001b[39m.\u001b[39;49mdot(w\u001b[39m.\u001b[39;49mT, X) \u001b[39m+\u001b[39m b)\n\u001b[0;32m     59\u001b[0m \u001b[39m# assert(1.0 not in A)\u001b[39;00m\n\u001b[0;32m     60\u001b[0m \u001b[39mif\u001b[39;00m \u001b[39m1.0\u001b[39m \u001b[39min\u001b[39;00m A:\n",
      "File \u001b[1;32m<__array_function__ internals>:180\u001b[0m, in \u001b[0;36mdot\u001b[1;34m(*args, **kwargs)\u001b[0m\n",
      "\u001b[1;31mKeyboardInterrupt\u001b[0m: "
     ]
    }
   ],
   "source": [
    "import logicRegression\n",
    "memUsage = psutil.virtual_memory()\n",
    "print('memory used %.3f GB of %.3f GB | %.0f %%' % (memUsage.used / 1024 / 1024 / 1024, memUsage.total / 1024 / 1024 / 1024, memUsage.percent))\n",
    "result = logicRegression.modelWithInitialWB(\n",
    "    trainSetX, trainSetY,\n",
    "    testSetX, testSetY,\n",
    "    w, b,\n",
    "    num_iterations, learning_rate,\n",
    "    cost_record_cnt = 100, print_cost = True)\n",
    "\n",
    "# deltaCost = result['costs'][-1] - lastCost\n",
    "# deltaTestAccuracy = result['testAccuracy'] - lastTestAccuracy\n",
    "# print('delta test accuracy: %.4f' % deltaTestAccuracy)\n",
    "# print('delta cost: .4f' % deltaCost)\n",
    "\n",
    "    \n",
    "# # Plot learning curve (with costs)\n",
    "# costs = np.squeeze(result['costs'])\n",
    "# plt.rcParams['figure.figsize'] = [30, 5]\n",
    "# plt.rcParams['figure.dpi'] = 72\n",
    "# plt.plot(costs)\n",
    "# plt.ylabel('cost')\n",
    "# plt.xlabel('iterations')\n",
    "# plt.title(\"Learning rate =\" + str(result[\"learning_rate\"]))\n",
    "# plt.show()"
   ]
  },
  {
   "cell_type": "code",
   "execution_count": 5,
   "metadata": {},
   "outputs": [
    {
     "name": "stdout",
     "output_type": "stream",
     "text": [
      "save to savedTrainingData.bin done\n"
     ]
    }
   ],
   "source": [
    "# 保存模型\n",
    "saveData = {\n",
    "    'w': result['w'],\n",
    "    'b': result['b'],\n",
    "    'costs': result['costs'],\n",
    "    'trainAccuracy': result['trainAccuracy'],\n",
    "    'testAccuracy': result['testAccuracy']\n",
    "\n",
    "}\n",
    "utils.save2File(saveData, saveDataFilePath)\n",
    "print('save to', saveDataFilePath, 'done')"
   ]
  }
 ],
 "metadata": {
  "kernelspec": {
   "display_name": "Python 3.8.13 ('py38')",
   "language": "python",
   "name": "python3"
  },
  "language_info": {
   "codemirror_mode": {
    "name": "ipython",
    "version": 3
   },
   "file_extension": ".py",
   "mimetype": "text/x-python",
   "name": "python",
   "nbconvert_exporter": "python",
   "pygments_lexer": "ipython3",
   "version": "3.8.13"
  },
  "orig_nbformat": 4,
  "vscode": {
   "interpreter": {
    "hash": "9588c58e218e3a9874d549bafbb26b5256434620a54f1bac9f7fe29051d12c0d"
   }
  }
 },
 "nbformat": 4,
 "nbformat_minor": 2
}

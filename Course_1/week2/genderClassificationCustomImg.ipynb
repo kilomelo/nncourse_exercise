{
 "cells": [
  {
   "cell_type": "code",
   "execution_count": 1,
   "metadata": {},
   "outputs": [
    {
     "name": "stdout",
     "output_type": "stream",
     "text": [
      "['chu', 'jiu', 'jiu2', 'jiu3', 'jiu4']\n"
     ]
    }
   ],
   "source": [
    "from utils import getAllImageInfo\n",
    "import pandas as pd\n",
    "from PIL import Image\n",
    "from os import path\n",
    "import math\n",
    "import numpy as np\n",
    "\n",
    "rawImgDir = './images/custom'\n",
    "# rawImgExtention = '.png'\n",
    "imgDir = './images/custom/resized/'\n",
    "\n",
    "fnames, fullPath, nameWidthExtension = getAllImageInfo(rawImgDir)\n",
    "print(fnames)"
   ]
  },
  {
   "cell_type": "code",
   "execution_count": 2,
   "metadata": {},
   "outputs": [],
   "source": [
    "targetW = 128\n",
    "targetH = 216\n",
    "\n",
    "testSet = []\n",
    "\n",
    "for fname, path in zip(fnames, fullPath):\n",
    "    im = Image.open(path)\n",
    "    w = im.size[0]\n",
    "    h = im.size[1]\n",
    "    if (w / h > targetW / targetH):\n",
    "        crop = math.floor((w - targetW * h / targetH) * 0.5)\n",
    "        im = im.crop((crop, 0, w - crop, h)).resize((targetW, targetH), Image.Resampling.BILINEAR)\n",
    "    else:\n",
    "        crop = math.floor((h - targetH * w / targetW) * 0.5)\n",
    "        im = im.crop((0, crop, w, h - crop)).resize((targetW, targetH), Image.Resampling.BILINEAR)\n",
    "    # im.save(imgDir + fname + '.png')\n",
    "    testSet.append(np.array(im))\n",
    "\n",
    "testSet = np.array(testSet).reshape(targetW * targetH * 3, -1) / 255\n"
   ]
  },
  {
   "cell_type": "code",
   "execution_count": 5,
   "metadata": {},
   "outputs": [
    {
     "ename": "TypeError",
     "evalue": "'NoneType' object is not subscriptable",
     "output_type": "error",
     "traceback": [
      "\u001b[1;31m---------------------------------------------------------------------------\u001b[0m",
      "\u001b[1;31mTypeError\u001b[0m                                 Traceback (most recent call last)",
      "\u001b[1;32mc:\\Dev\\kilomelo\\nncourse_exercise\\Course_1\\week2\\genderClassificationCustomImg.ipynb Cell 3\u001b[0m in \u001b[0;36m<cell line: 6>\u001b[1;34m()\u001b[0m\n\u001b[0;32m      <a href='vscode-notebook-cell:/c%3A/Dev/kilomelo/nncourse_exercise/Course_1/week2/genderClassificationCustomImg.ipynb#W2sZmlsZQ%3D%3D?line=2'>3</a>\u001b[0m saveDataFilePath \u001b[39m=\u001b[39m \u001b[39m'\u001b[39m\u001b[39msavedTrainingData.bin\u001b[39m\u001b[39m'\u001b[39m\n\u001b[0;32m      <a href='vscode-notebook-cell:/c%3A/Dev/kilomelo/nncourse_exercise/Course_1/week2/genderClassificationCustomImg.ipynb#W2sZmlsZQ%3D%3D?line=3'>4</a>\u001b[0m loadedData \u001b[39m=\u001b[39m utils\u001b[39m.\u001b[39mloadFromeFile(saveDataFilePath)\n\u001b[1;32m----> <a href='vscode-notebook-cell:/c%3A/Dev/kilomelo/nncourse_exercise/Course_1/week2/genderClassificationCustomImg.ipynb#W2sZmlsZQ%3D%3D?line=5'>6</a>\u001b[0m predictResult \u001b[39m=\u001b[39m logicRegression\u001b[39m.\u001b[39mpredict(loadedData[\u001b[39m\"\u001b[39;49m\u001b[39mw\u001b[39;49m\u001b[39m\"\u001b[39;49m], loadedData[\u001b[39m\"\u001b[39m\u001b[39mb\u001b[39m\u001b[39m\"\u001b[39m], testSet)\u001b[39m.\u001b[39mastype(\u001b[39mint\u001b[39m)\n\u001b[0;32m      <a href='vscode-notebook-cell:/c%3A/Dev/kilomelo/nncourse_exercise/Course_1/week2/genderClassificationCustomImg.ipynb#W2sZmlsZQ%3D%3D?line=6'>7</a>\u001b[0m \u001b[39mprint\u001b[39m(predictResult)\n",
      "\u001b[1;31mTypeError\u001b[0m: 'NoneType' object is not subscriptable"
     ]
    }
   ],
   "source": [
    "import logicRegression\n",
    "import utils\n",
    "saveDataFilePath = 'savedTrainingData.bin'\n",
    "loadedData = utils.loadFromeFile(saveDataFilePath)\n",
    "\n",
    "predictResult = logicRegression.predict(loadedData[\"w\"], loadedData[\"b\"], testSet).astype(int)\n",
    "print(predictResult)"
   ]
  }
 ],
 "metadata": {
  "kernelspec": {
   "display_name": "Python 3.8.13 ('py38')",
   "language": "python",
   "name": "python3"
  },
  "language_info": {
   "codemirror_mode": {
    "name": "ipython",
    "version": 3
   },
   "file_extension": ".py",
   "mimetype": "text/x-python",
   "name": "python",
   "nbconvert_exporter": "python",
   "pygments_lexer": "ipython3",
   "version": "3.8.13"
  },
  "orig_nbformat": 4,
  "vscode": {
   "interpreter": {
    "hash": "9588c58e218e3a9874d549bafbb26b5256434620a54f1bac9f7fe29051d12c0d"
   }
  }
 },
 "nbformat": 4,
 "nbformat_minor": 2
}

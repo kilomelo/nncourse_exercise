{
 "cells": [
  {
   "cell_type": "code",
   "execution_count": 42,
   "metadata": {},
   "outputs": [
    {
     "name": "stdout",
     "output_type": "stream",
     "text": [
      "['25403335', '46775462', '51233918', '51591831', '51794420', '52933235', '62447542', '63959747', '63959801', '63959875', '63960065', '63960149', '63960210', 'chu', 'jiu', 'jiu2', 'jiu3', 'jiu4']\n"
     ]
    }
   ],
   "source": [
    "from utils import getAllImageInfo\n",
    "import pandas as pd\n",
    "from PIL import Image\n",
    "from os import path\n",
    "import math\n",
    "import numpy as np\n",
    "\n",
    "rawImgDir = './images/custom'\n",
    "# rawImgExtention = '.png'\n",
    "imgDir = './images/custom/resized/'\n",
    "\n",
    "fnames, fullPath, nameWidthExtension = getAllImageInfo(rawImgDir)\n",
    "print(fnames)"
   ]
  },
  {
   "cell_type": "code",
   "execution_count": 43,
   "metadata": {},
   "outputs": [],
   "source": [
    "targetW = 128\n",
    "targetH = 216\n",
    "\n",
    "testSet = []\n",
    "\n",
    "for fname, path in zip(fnames, fullPath):\n",
    "    im = Image.open(path)\n",
    "    w = im.size[0]\n",
    "    h = im.size[1]\n",
    "    if (w / h > targetW / targetH):\n",
    "        crop = math.floor((w - targetW * h / targetH) * 0.5)\n",
    "        im = im.crop((crop, 0, w - crop, h)).resize((targetW, targetH), Image.Resampling.BILINEAR)\n",
    "    else:\n",
    "        crop = math.floor((h - targetH * w / targetW) * 0.5)\n",
    "        im = im.crop((0, crop, w, h - crop)).resize((targetW, targetH), Image.Resampling.BILINEAR)\n",
    "    # im.save(imgDir + fname + '.png')\n",
    "    testSet.append(np.array(im))\n",
    "\n",
    "testSet = np.array(testSet).reshape(targetW * targetH * 3, -1).squeeze() / 255\n"
   ]
  },
  {
   "cell_type": "code",
   "execution_count": 44,
   "metadata": {},
   "outputs": [
    {
     "name": "stdout",
     "output_type": "stream",
     "text": [
      "[[0 0 0 0 0 0 0 0 0 0 0 0 0 0 0 0 0 0]]\n"
     ]
    }
   ],
   "source": [
    "import logicRegression\n",
    "import utils\n",
    "saveDataFilePath = 'savedTrainingData.bin'\n",
    "loadedData = utils.loadFromeFile(saveDataFilePath)\n",
    "\n",
    "predictResult = logicRegression.predict(loadedData[\"w\"], loadedData[\"b\"], testSet).astype(int)\n",
    "print(predictResult)"
   ]
  }
 ],
 "metadata": {
  "kernelspec": {
   "display_name": "Python 3.8.13 ('py38')",
   "language": "python",
   "name": "python3"
  },
  "language_info": {
   "codemirror_mode": {
    "name": "ipython",
    "version": 3
   },
   "file_extension": ".py",
   "mimetype": "text/x-python",
   "name": "python",
   "nbconvert_exporter": "python",
   "pygments_lexer": "ipython3",
   "version": "3.8.13"
  },
  "orig_nbformat": 4,
  "vscode": {
   "interpreter": {
    "hash": "494831b43a99599d5d91bdae34840d0095925a464a7e6accd0857fa4b95316bf"
   }
  }
 },
 "nbformat": 4,
 "nbformat_minor": 2
}
